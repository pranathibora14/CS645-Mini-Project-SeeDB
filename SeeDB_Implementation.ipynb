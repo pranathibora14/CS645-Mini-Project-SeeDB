{
  "nbformat": 4,
  "nbformat_minor": 0,
  "metadata": {
    "colab": {
      "provenance": []
    },
    "kernelspec": {
      "name": "python3",
      "display_name": "Python 3"
    },
    "language_info": {
      "name": "python"
    }
  },
  "cells": [
    {
      "cell_type": "code",
      "execution_count": 7,
      "metadata": {
        "colab": {
          "base_uri": "https://localhost:8080/"
        },
        "id": "CQFcfPPof-Pt",
        "outputId": "1e3631c3-ba18-4f1b-9a75-4bf722bd1167"
      },
      "outputs": [
        {
          "output_type": "stream",
          "name": "stdout",
          "text": [
            "(39, ' State-gov', 77516, ' Bachelors', 13, ' Never-married', ' Adm-clerical', ' Not-in-family', ' White', ' Male', 2174, 0, 40, ' United-States', ' <=50K')\n"
          ]
        }
      ],
      "source": [
        "import sqlite3\n",
        "import pandas as pd\n",
        "\n",
        "# Read CSV into DataFrame\n",
        "df = pd.read_csv('/content/census_data/census_data.csv')\n",
        "\n",
        "# Read SQL schema from .sql file\n",
        "with open('schema.sql', 'r') as f:\n",
        "    sql_schema = f.read()\n",
        "\n",
        "# Connect to SQLite database\n",
        "conn = sqlite3.connect('census.db')\n",
        "\n",
        "# Create table using the schema\n",
        "conn.executescript(sql_schema)\n",
        "\n",
        "# Write DataFrame to SQL database\n",
        "df.to_sql('census', conn, if_exists='replace', index=False)\n",
        "\n",
        "#test\n",
        "query = \"\"\"\n",
        "SELECT* from census;\n",
        "\"\"\"\n",
        "result = conn.execute(query).fetchone()\n",
        "\n",
        "# Print the result\n",
        "print(result)\n",
        "\n",
        "# Close connection\n",
        "conn.close()\n"
      ]
    },
    {
      "cell_type": "code",
      "source": [],
      "metadata": {
        "id": "5JqBEfXzlqHV"
      },
      "execution_count": null,
      "outputs": []
    }
  ]
}