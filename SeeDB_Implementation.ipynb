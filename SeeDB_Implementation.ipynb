{
 "cells": [
  {
   "cell_type": "code",
   "execution_count": 1,
   "metadata": {},
   "outputs": [],
   "source": [
    "# !pip install psycopg2"
   ]
  },
  {
   "cell_type": "code",
   "execution_count": 25,
   "metadata": {},
   "outputs": [
    {
     "name": "stdout",
     "output_type": "stream",
     "text": [
      "First 5 rows of census table:\n",
      "(1, 39, ' State-gov', 77516, ' Bachelors', 13, ' Never-married', ' Adm-clerical', ' Not-in-family', ' White', ' Male', 2174, 0, 40, ' United-States', ' <=50K')\n",
      "(2, 50, ' Self-emp-not-inc', 83311, ' Bachelors', 13, ' Married-civ-spouse', ' Exec-managerial', ' Husband', ' White', ' Male', 0, 0, 13, ' United-States', ' <=50K')\n",
      "(3, 38, ' Private', 215646, ' HS-grad', 9, ' Divorced', ' Handlers-cleaners', ' Not-in-family', ' White', ' Male', 0, 0, 40, ' United-States', ' <=50K')\n",
      "(4, 53, ' Private', 234721, ' 11th', 7, ' Married-civ-spouse', ' Handlers-cleaners', ' Husband', ' Black', ' Male', 0, 0, 40, ' United-States', ' <=50K')\n",
      "(5, 28, ' Private', 338409, ' Bachelors', 13, ' Married-civ-spouse', ' Prof-specialty', ' Wife', ' Black', ' Female', 0, 0, 40, ' Cuba', ' <=50K')\n",
      "Total rows in census table: 32561\n"
     ]
    }
   ],
   "source": [
    "import psycopg2\n",
    "import numpy as np\n",
    "from scipy.special import rel_entr\n",
    "from scipy.special import kl_div\n",
    "from collections import defaultdict\n",
    "# Making connection to postgres database\n",
    "conn = psycopg2.connect(database='SeeDB', user='postgres', password='password')\n",
    "\n",
    "cur = conn.cursor()\n",
    "cur.execute('SELECT * FROM census LIMIT 5')\n",
    "head_5 = cur.fetchall()\n",
    "\n",
    "print(\"First 5 rows of census table:\")\n",
    "for row in head_5:\n",
    "    print(row)\n",
    "\n",
    "cur.execute('SELECT COUNT(*) FROM census')\n",
    "total_rows = cur.fetchone()[0]\n",
    "print(\"Total rows in census table:\", total_rows)\n",
    "\n",
    "# conn.close()\n"
   ]
  },
  {
   "cell_type": "code",
   "execution_count": 26,
   "metadata": {},
   "outputs": [
    {
     "data": {
      "text/plain": [
       "0.057192913458712795"
      ]
     },
     "execution_count": 26,
     "metadata": {},
     "output_type": "execute_result"
    }
   ],
   "source": [
    "def kl_divergence(prob1, prob2):\n",
    "    # return sum(prob1[i] * np.log(prob1[i]/prob2[i]) for i in range(len(prob1)))\n",
    "    # return sum(kl_div(np.array(prob1), np.array(prob2)))\n",
    "    # Normalizing prob1 and prob2 values to be between 0 and 1\n",
    "    prob1 = prob1/np.sum(np.asarray(prob1, dtype=float))\n",
    "    prob2 = prob2/np.sum(np.asarray(prob2, dtype=float))\n",
    "    # Clipping values of prob2 between eps and positive infinity to avoid dividing by 0\n",
    "    prob2 = np.clip(prob2, np.finfo(float).eps, None)\n",
    "    return np.sum(prob1 * np.log(prob1 / prob2))\n",
    "# Testing kl divergence\n",
    "prob1 = [0.25, 0.33, 0.23, 0.19]\n",
    "prob2 = [0.21, 0.21, 0.32, 0.26]\n",
    "kl_divergence(prob1, prob2)\n",
    "# kl_divergence(prob2, prob1)\n",
    "# kl_divergence(prob1, prob1)"
   ]
  },
  {
   "cell_type": "code",
   "execution_count": 27,
   "metadata": {},
   "outputs": [],
   "source": [
    "query_ds_cond = \"marital_status in (' Married-civ-spouse', ' Married-spouse-absent', ' Married-AF-spouse')\"\n",
    "ref_ds_cond = \"marital_status in (' Divorced', ' Never-married', ' Separated', ' Widowed')\"\n",
    "\n",
    "measures = ['age', 'capital_gain', 'capital_loss', 'hours_per_week']\n",
    "dimensions = ['workclass', 'education', 'occupation', 'relationship', 'race', 'sex', 'native_country', 'income']\n",
    "agg_functions = ['avg', 'sum', 'min', 'max', 'count']"
   ]
  },
  {
   "cell_type": "code",
   "execution_count": 30,
   "metadata": {},
   "outputs": [
    {
     "name": "stdout",
     "output_type": "stream",
     "text": [
      "defaultdict(<function <lambda> at 0x00000235917A63E0>, {'workclass': defaultdict(<class 'set'>, {'age': {'max', 'count', 'sum', 'avg', 'min'}, 'capital_gain': {'max', 'count', 'sum', 'avg', 'min'}, 'capital_loss': {'max', 'count', 'sum', 'avg', 'min'}, 'hours_per_week': {'max', 'count', 'sum', 'avg', 'min'}}), 'education': defaultdict(<class 'set'>, {'age': {'max', 'count', 'sum', 'avg', 'min'}, 'capital_gain': {'max', 'count', 'sum', 'avg', 'min'}, 'capital_loss': {'max', 'count', 'sum', 'avg', 'min'}, 'hours_per_week': {'max', 'count', 'sum', 'avg', 'min'}}), 'occupation': defaultdict(<class 'set'>, {'age': {'max', 'count', 'sum', 'avg', 'min'}, 'capital_gain': {'max', 'count', 'sum', 'avg', 'min'}, 'capital_loss': {'max', 'count', 'sum', 'avg', 'min'}, 'hours_per_week': {'max', 'count', 'sum', 'avg', 'min'}}), 'relationship': defaultdict(<class 'set'>, {'age': {'max', 'count', 'sum', 'avg', 'min'}, 'capital_gain': {'max', 'count', 'sum', 'avg', 'min'}, 'capital_loss': {'max', 'count', 'sum', 'avg', 'min'}, 'hours_per_week': {'max', 'count', 'sum', 'avg', 'min'}}), 'race': defaultdict(<class 'set'>, {'age': {'max', 'count', 'sum', 'avg', 'min'}, 'capital_gain': {'max', 'count', 'sum', 'avg', 'min'}, 'capital_loss': {'max', 'count', 'sum', 'avg', 'min'}, 'hours_per_week': {'max', 'count', 'sum', 'avg', 'min'}}), 'sex': defaultdict(<class 'set'>, {'age': {'max', 'count', 'sum', 'avg', 'min'}, 'capital_gain': {'max', 'count', 'sum', 'avg', 'min'}, 'capital_loss': {'max', 'count', 'sum', 'avg', 'min'}, 'hours_per_week': {'max', 'count', 'sum', 'avg', 'min'}}), 'native_country': defaultdict(<class 'set'>, {'age': {'max', 'count', 'sum', 'avg', 'min'}, 'capital_gain': {'max', 'count', 'sum', 'avg', 'min'}, 'capital_loss': {'max', 'count', 'sum', 'avg', 'min'}, 'hours_per_week': {'max', 'count', 'sum', 'avg', 'min'}}), 'income': defaultdict(<class 'set'>, {'age': {'max', 'count', 'sum', 'avg', 'min'}, 'capital_gain': {'max', 'count', 'sum', 'avg', 'min'}, 'capital_loss': {'max', 'count', 'sum', 'avg', 'min'}, 'hours_per_week': {'max', 'count', 'sum', 'avg', 'min'}})})\n"
     ]
    }
   ],
   "source": [
    "views = defaultdict(lambda: defaultdict(set))\n",
    "# for agg_func in agg_functions:\n",
    "for dim in dimensions:\n",
    "    for measure in measures:\n",
    "        views[dim][measure] = (set(agg_functions))\n",
    "print(views)"
   ]
  },
  {
   "cell_type": "code",
   "execution_count": 42,
   "metadata": {},
   "outputs": [
    {
     "name": "stdout",
     "output_type": "stream",
     "text": [
      "1 1628\n",
      "1629 3256\n",
      "3257 4884\n",
      "4885 6512\n",
      "6513 8140\n",
      "8141 9768\n",
      "9769 11396\n",
      "11397 13024\n",
      "13025 14652\n",
      "14653 16280\n",
      "16281 17908\n",
      "17909 19536\n",
      "19537 21164\n",
      "21165 22792\n",
      "22793 24420\n",
      "24421 26048\n",
      "26049 27676\n",
      "27677 29304\n",
      "29305 30932\n",
      "30933 32561\n"
     ]
    }
   ],
   "source": [
    "# Creating 20 partitions of the data\n",
    "partition_size = total_rows // 20\n",
    "for i in range(20):\n",
    "    start_idx = i * partition_size + 1\n",
    "    end_idx = 1 + ((i + 1) * partition_size - 1 if i != 20 - 1 else total_rows - 1)\n",
    "    print(start_idx, end_idx)\n",
    "\n",
    "    # Implement sharing optimization by grouping multiple aggregations in the same query."
   ]
  },
  {
   "cell_type": "code",
   "execution_count": null,
   "metadata": {},
   "outputs": [],
   "source": []
  }
 ],
 "metadata": {
  "colab": {
   "provenance": []
  },
  "kernelspec": {
   "display_name": "Python 3 (ipykernel)",
   "language": "python",
   "name": "python3"
  },
  "language_info": {
   "codemirror_mode": {
    "name": "ipython",
    "version": 3
   },
   "file_extension": ".py",
   "mimetype": "text/x-python",
   "name": "python",
   "nbconvert_exporter": "python",
   "pygments_lexer": "ipython3",
   "version": "3.11.7"
  }
 },
 "nbformat": 4,
 "nbformat_minor": 4
}
